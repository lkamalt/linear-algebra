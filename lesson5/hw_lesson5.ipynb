{
 "cells": [
  {
   "cell_type": "markdown",
   "id": "cef12ec5",
   "metadata": {},
   "source": [
    "# Оглавление\n",
    "1. [Сингулярное разложение матриц](#svd)\n",
    "    * [Задание 1](#svd_1)\n",
    "    * [Задание 2](#svd_2)"
   ]
  },
  {
   "cell_type": "code",
   "execution_count": 1,
   "id": "f42c9110",
   "metadata": {},
   "outputs": [],
   "source": [
    "import numpy as np\n",
    "np.set_printoptions(precision=2, suppress=True)"
   ]
  },
  {
   "cell_type": "markdown",
   "id": "cb6150ae",
   "metadata": {},
   "source": [
    "# Сингулярное разложение матриц <a class='anchor' id='svd'>"
   ]
  },
  {
   "cell_type": "markdown",
   "id": "afd4eed7",
   "metadata": {},
   "source": [
    "### Задание 1 <a class='anchor' id='svd_1'>\n",
    "    \n",
    "Найдите посредством NumPy SVD-разложение для матрицы:\n",
    "\n",
    "$$\n",
    "\\begin{pmatrix}\n",
    "1 & 2 & 0 \\\\ \n",
    "0 & 0 & 5 \\\\ \n",
    "3 & -4 & 2 \\\\ \n",
    "1 & 6 & 5 \\\\ \n",
    "0 & 1 & 0\n",
    "\\end{pmatrix}.\n",
    "$$\n",
    "    \n",
    "**Решение**"
   ]
  },
  {
   "cell_type": "code",
   "execution_count": 2,
   "id": "f2fbb0eb",
   "metadata": {},
   "outputs": [
    {
     "name": "stdout",
     "output_type": "stream",
     "text": [
      "A =\n",
      "[[ 1  2  0]\n",
      " [ 0  0  5]\n",
      " [ 3 -4  2]\n",
      " [ 1  6  5]\n",
      " [ 0  1  0]]\n",
      "\n",
      "U =\n",
      "[[ 0.17  0.16 -0.53 -0.8  -0.16]\n",
      " [ 0.39 -0.53  0.61 -0.43  0.03]\n",
      " [-0.14 -0.82 -0.52  0.14  0.07]\n",
      " [ 0.89  0.06 -0.25  0.38 -0.06]\n",
      " [ 0.08  0.11 -0.08 -0.11  0.98]]\n",
      "\n",
      "D =\n",
      "[[8.82 0.   0.  ]\n",
      " [0.   6.14 0.  ]\n",
      " [0.   0.   2.53]\n",
      " [0.   0.   0.  ]\n",
      " [0.   0.   0.  ]]\n",
      "\n",
      "V =\n",
      "[[ 0.07 -0.37 -0.93]\n",
      " [ 0.72  0.67 -0.21]\n",
      " [ 0.69 -0.65  0.31]]\n",
      "\n",
      "Сингулярные числа: [8.82 6.14 2.53]\n"
     ]
    }
   ],
   "source": [
    "# Исходная матрица\n",
    "A = np.array([[1, 2, 0], [0, 0, 5], [3, -4, 2], [1, 6, 5], [0, 1, 0]])\n",
    "\n",
    "# SVD-разложение\n",
    "U, s, W = np.linalg.svd(A)\n",
    "\n",
    "# Транспонируем матрицу W\n",
    "V = W.T\n",
    "\n",
    "# D - матрица, на диоганали которой расположены значения из s - список сингулярных чисел\n",
    "D = np.zeros_like(A, dtype=float)\n",
    "D[np.diag_indices(min(A.shape))] = s\n",
    "\n",
    "print(f'A =\\n{A}\\n')\n",
    "print(f'U =\\n{U}\\n')\n",
    "print(f'D =\\n{D}\\n')\n",
    "print(f'V =\\n{V}\\n')\n",
    "print(f'Сингулярные числа: {s}')"
   ]
  },
  {
   "cell_type": "code",
   "execution_count": 3,
   "id": "5c9e513f",
   "metadata": {},
   "outputs": [
    {
     "data": {
      "text/plain": [
       "array([[ 1.,  2.,  0.],\n",
       "       [ 0., -0.,  5.],\n",
       "       [ 3., -4.,  2.],\n",
       "       [ 1.,  6.,  5.],\n",
       "       [-0.,  1., -0.]])"
      ]
     },
     "execution_count": 3,
     "metadata": {},
     "output_type": "execute_result"
    }
   ],
   "source": [
    "# Проверим, что умножение полученных матриц дает исходную матрицу A\n",
    "U @ D @ V.T"
   ]
  },
  {
   "cell_type": "markdown",
   "id": "8953d9ae",
   "metadata": {},
   "source": [
    "### Задание 2 <a class='anchor' id='svd_2'>\n",
    "    \n",
    "Для матрицы из предыдущего задания найдите:\n",
    "\n",
    "а) евклидову норму;\n",
    "    \n",
    "б) норму Фробениуса.\n",
    "    \n",
    "**Решение**\n",
    "    \n",
    "Евклидова норма матрицы равна максимальному сингулярному числу:\n",
    "    \n",
    "$$\\left \\| A \\right \\|_E = \\mu_1 = 8.82.$$\n",
    "    \n",
    "Норма Форбениуса с использованием сингулярных чисел вычисляется следующим образом:\n",
    "    \n",
    "$$\\left \\| A \\right \\|_F = \\sqrt{\\sum_{k = 1}^r \\mu_k^{2}} = 11.045.$$"
   ]
  },
  {
   "cell_type": "code",
   "execution_count": 4,
   "id": "80a03234",
   "metadata": {
    "scrolled": true
   },
   "outputs": [
    {
     "name": "stdout",
     "output_type": "stream",
     "text": [
      "Норма Фробениуса = 11.045361017187263\n",
      "\n"
     ]
    }
   ],
   "source": [
    "# Вычисление нормы Фробениуса\n",
    "norm_F = np.linalg.norm(s)\n",
    "print(f'Норма Фробениуса = {norm_F}\\n')"
   ]
  },
  {
   "cell_type": "code",
   "execution_count": 5,
   "id": "97c17e94",
   "metadata": {},
   "outputs": [
    {
     "name": "stdout",
     "output_type": "stream",
     "text": [
      "Проверка через numpy\n",
      "Евклидова норма = 8.824868854820444\n",
      "Норма Фробениуса = 11.045361017187261\n"
     ]
    }
   ],
   "source": [
    "# Проверка расчета нормы\n",
    "norm_E_np = np.linalg.norm(A, ord=2)\n",
    "norm_F_np = np.linalg.norm(A, ord='fro')\n",
    "\n",
    "print('Проверка через numpy')\n",
    "print(f'Евклидова норма = {norm_E_np}')\n",
    "print(f'Норма Фробениуса = {norm_F_np}')"
   ]
  },
  {
   "cell_type": "markdown",
   "id": "0503ee73",
   "metadata": {},
   "source": [
    "**Ответ (задание 2):** \n",
    "\n",
    "$\\left \\| A \\right \\|_E = 8.82$\n",
    "\n",
    "$\\left \\| A \\right \\|_F = 11.045$"
   ]
  }
 ],
 "metadata": {
  "kernelspec": {
   "display_name": "Python 3 (ipykernel)",
   "language": "python",
   "name": "python3"
  },
  "language_info": {
   "codemirror_mode": {
    "name": "ipython",
    "version": 3
   },
   "file_extension": ".py",
   "mimetype": "text/x-python",
   "name": "python",
   "nbconvert_exporter": "python",
   "pygments_lexer": "ipython3",
   "version": "3.9.7"
  }
 },
 "nbformat": 4,
 "nbformat_minor": 5
}
